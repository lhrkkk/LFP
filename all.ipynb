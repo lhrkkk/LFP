{
  "cells": [
    {
      "cell_type": "markdown",
      "metadata": {
        "id": "view-in-github",
        "colab_type": "text"
      },
      "source": [
        "<a href=\"https://colab.research.google.com/github/lhrkkk/LFP/blob/main/all.ipynb\" target=\"_parent\"><img src=\"https://colab.research.google.com/assets/colab-badge.svg\" alt=\"Open In Colab\"/></a>"
      ]
    },
    {
      "cell_type": "markdown",
      "source": [
        "# Global Settings"
      ],
      "metadata": {
        "id": "NVK20qn6QkC3"
      }
    },
    {
      "cell_type": "markdown",
      "source": [
        "\n",
        "## Global Variables"
      ],
      "metadata": {
        "id": "OHj12U4C6Dy2"
      }
    },
    {
      "cell_type": "code",
      "source": [
        "### @title Global Variables {display-mode: \"form\"}\n",
        "\n",
        "# 全局参数\n",
        "# DATA_SOURCE='real'\n",
        "DATA_SOURCE='synth'\n",
        "\n",
        "# FIND_HIGHLIGHT=True\n",
        "# SIMULATION_EVENTS=False\n",
        "\n",
        "FIND_HIGHLIGHT=False\n",
        "SIMULATION_EVENTS=True\n",
        "\n",
        "# TFR 频率范围\n",
        "fmin=5.\n",
        "fmax=100.\n",
        "\n",
        "# Event 窗口前后宽度\n",
        "tmin=-1\n",
        "tmax=1\n",
        "\n",
        "# 聚类方法, Kmeans, TimeSeriesKmeans_DTW, DBSCAN, ward\n",
        "# algorithm='kmeans'\n",
        "algorithm='tsdtw'\n",
        "# algorithm='dbscan'\n",
        "# algorithm='ward'\n"
      ],
      "metadata": {
        "id": "dkonE0uvymfj"
      },
      "execution_count": 1,
      "outputs": []
    },
    {
      "cell_type": "markdown",
      "source": [
        "## 流程\n",
        "1. 时频域图-》寻找高光活跃中心点-》将这些点，按频率划分到时间点集合\n",
        "\n",
        "2. 对某一频率的时间点集，进行原始片段提取，并在此频率滤波后 -》普通聚类或 DTW距离聚类。\n",
        "\n",
        "3. 返还到原信号时间片，对比类内样本的滤波后的波形。\n",
        "\n",
        "这样能得到某一频率的活跃波形。并且能够按照相似性聚集类别。"
      ],
      "metadata": {
        "id": "1A7gpMwSbNOl"
      }
    },
    {
      "cell_type": "code",
      "source": [
        "#@title Dependences {display-mode: \"form\"}\n",
        "# 加上这一行可折叠代码\n",
        "\n",
        "# %%script false --no-raise-error  \n",
        "# 加上这一行可以禁止 cell 运行\n",
        "\n",
        "!pip install numpy matplotlib mne pandas PyWavelets scikit-learn tslearn yapf scipy imageio opencv-python numba dtaidistance"
      ],
      "metadata": {
        "colab": {
          "base_uri": "https://localhost:8080/"
        },
        "id": "wdiix6mEyt6I",
        "outputId": "6313f5f6-7696-4f81-ed82-ddec885632c0"
      },
      "execution_count": 2,
      "outputs": [
        {
          "output_type": "stream",
          "name": "stdout",
          "text": [
            "Looking in indexes: https://pypi.org/simple, https://us-python.pkg.dev/colab-wheels/public/simple/\n",
            "Requirement already satisfied: numpy in /usr/local/lib/python3.7/dist-packages (1.21.6)\n",
            "Requirement already satisfied: matplotlib in /usr/local/lib/python3.7/dist-packages (3.2.2)\n",
            "Requirement already satisfied: mne in /usr/local/lib/python3.7/dist-packages (1.2.2)\n",
            "Requirement already satisfied: pandas in /usr/local/lib/python3.7/dist-packages (1.3.5)\n",
            "Requirement already satisfied: PyWavelets in /usr/local/lib/python3.7/dist-packages (1.3.0)\n",
            "Requirement already satisfied: scikit-learn in /usr/local/lib/python3.7/dist-packages (1.0.2)\n",
            "Requirement already satisfied: tslearn in /usr/local/lib/python3.7/dist-packages (0.5.2)\n",
            "Requirement already satisfied: yapf in /usr/local/lib/python3.7/dist-packages (0.32.0)\n",
            "Requirement already satisfied: scipy in /usr/local/lib/python3.7/dist-packages (1.7.3)\n",
            "Requirement already satisfied: imageio in /usr/local/lib/python3.7/dist-packages (2.9.0)\n",
            "Requirement already satisfied: opencv-python in /usr/local/lib/python3.7/dist-packages (4.6.0.66)\n",
            "Requirement already satisfied: numba in /usr/local/lib/python3.7/dist-packages (0.56.4)\n",
            "Requirement already satisfied: dtaidistance in /usr/local/lib/python3.7/dist-packages (2.3.10)\n",
            "Requirement already satisfied: cycler>=0.10 in /usr/local/lib/python3.7/dist-packages (from matplotlib) (0.11.0)\n",
            "Requirement already satisfied: pyparsing!=2.0.4,!=2.1.2,!=2.1.6,>=2.0.1 in /usr/local/lib/python3.7/dist-packages (from matplotlib) (3.0.9)\n",
            "Requirement already satisfied: python-dateutil>=2.1 in /usr/local/lib/python3.7/dist-packages (from matplotlib) (2.8.2)\n",
            "Requirement already satisfied: kiwisolver>=1.0.1 in /usr/local/lib/python3.7/dist-packages (from matplotlib) (1.4.4)\n",
            "Requirement already satisfied: typing-extensions in /usr/local/lib/python3.7/dist-packages (from kiwisolver>=1.0.1->matplotlib) (4.1.1)\n",
            "Requirement already satisfied: six>=1.5 in /usr/local/lib/python3.7/dist-packages (from python-dateutil>=2.1->matplotlib) (1.15.0)\n",
            "Requirement already satisfied: packaging in /usr/local/lib/python3.7/dist-packages (from mne) (21.3)\n",
            "Requirement already satisfied: tqdm in /usr/local/lib/python3.7/dist-packages (from mne) (4.64.1)\n",
            "Requirement already satisfied: pooch>=1.5 in /usr/local/lib/python3.7/dist-packages (from mne) (1.6.0)\n",
            "Requirement already satisfied: jinja2 in /usr/local/lib/python3.7/dist-packages (from mne) (2.11.3)\n",
            "Requirement already satisfied: decorator in /usr/local/lib/python3.7/dist-packages (from mne) (4.4.2)\n",
            "Requirement already satisfied: requests>=2.19.0 in /usr/local/lib/python3.7/dist-packages (from pooch>=1.5->mne) (2.23.0)\n",
            "Requirement already satisfied: appdirs>=1.3.0 in /usr/local/lib/python3.7/dist-packages (from pooch>=1.5->mne) (1.4.4)\n",
            "Requirement already satisfied: certifi>=2017.4.17 in /usr/local/lib/python3.7/dist-packages (from requests>=2.19.0->pooch>=1.5->mne) (2022.9.24)\n",
            "Requirement already satisfied: idna<3,>=2.5 in /usr/local/lib/python3.7/dist-packages (from requests>=2.19.0->pooch>=1.5->mne) (2.10)\n",
            "Requirement already satisfied: chardet<4,>=3.0.2 in /usr/local/lib/python3.7/dist-packages (from requests>=2.19.0->pooch>=1.5->mne) (3.0.4)\n",
            "Requirement already satisfied: urllib3!=1.25.0,!=1.25.1,<1.26,>=1.21.1 in /usr/local/lib/python3.7/dist-packages (from requests>=2.19.0->pooch>=1.5->mne) (1.24.3)\n",
            "Requirement already satisfied: pytz>=2017.3 in /usr/local/lib/python3.7/dist-packages (from pandas) (2022.6)\n",
            "Requirement already satisfied: joblib>=0.11 in /usr/local/lib/python3.7/dist-packages (from scikit-learn) (1.2.0)\n",
            "Requirement already satisfied: threadpoolctl>=2.0.0 in /usr/local/lib/python3.7/dist-packages (from scikit-learn) (3.1.0)\n",
            "Requirement already satisfied: Cython in /usr/local/lib/python3.7/dist-packages (from tslearn) (0.29.32)\n",
            "Requirement already satisfied: pillow in /usr/local/lib/python3.7/dist-packages (from imageio) (7.1.2)\n",
            "Requirement already satisfied: llvmlite<0.40,>=0.39.0dev0 in /usr/local/lib/python3.7/dist-packages (from numba) (0.39.1)\n",
            "Requirement already satisfied: importlib-metadata in /usr/local/lib/python3.7/dist-packages (from numba) (4.13.0)\n",
            "Requirement already satisfied: setuptools in /usr/local/lib/python3.7/dist-packages (from numba) (57.4.0)\n",
            "Requirement already satisfied: zipp>=0.5 in /usr/local/lib/python3.7/dist-packages (from importlib-metadata->numba) (3.10.0)\n",
            "Requirement already satisfied: MarkupSafe>=0.23 in /usr/local/lib/python3.7/dist-packages (from jinja2->mne) (2.0.1)\n"
          ]
        }
      ]
    },
    {
      "cell_type": "code",
      "execution_count": 3,
      "metadata": {
        "colab": {
          "base_uri": "https://localhost:8080/"
        },
        "id": "hR-Kb1yMygk9",
        "outputId": "55d73590-8146-4bd4-9f9c-e51927c03d50"
      },
      "outputs": [
        {
          "output_type": "stream",
          "name": "stdout",
          "text": [
            "Automatically created module for IPython interactive environment\n"
          ]
        }
      ],
      "source": [
        "import numpy as np\n",
        "from matplotlib import pyplot as plt\n",
        "\n",
        "from mne import create_info, Epochs\n",
        "from mne.baseline import rescale\n",
        "from mne.io import RawArray\n",
        "from mne.time_frequency import (tfr_multitaper, tfr_stockwell, tfr_morlet,\n",
        "                                tfr_array_morlet, AverageTFR)\n",
        "from mne.viz import centers_to_edges\n",
        "import scipy.stats as stats\n",
        "\n",
        "from sklearn.cluster import AgglomerativeClustering \n",
        "import pandas as pd\n",
        "import matplotlib.pyplot as plt\n",
        "# from scipy.cluster.hierarchy import linkage,dendrogram\n",
        "\n",
        "\n",
        "from sklearn.cluster import KMeans,DBSCAN\n",
        "from sklearn.metrics import calinski_harabasz_score, silhouette_score\n",
        "from tslearn.clustering import TimeSeriesKMeans\n",
        "# from dtaidistance import dtw\n",
        "# dist_dtai = dtw.distance_fast(a[0], a[1])\n",
        "\n",
        "# parms = {\n",
        "#     \"quantile\": 0.3,\n",
        "#     \"eps\": 0.3,\n",
        "#     \"damping\": 0.9,\n",
        "#     \"preference\": -200,\n",
        "#     \"n_neighbors\": 3,\n",
        "#     \"n_clusters\": 3,\n",
        "#     \"min_samples\": 7,\n",
        "#     \"xi\": 0.05,\n",
        "#     \"min_cluster_size\": 0.1,\n",
        "# }\n",
        "print(__doc__)\n"
      ]
    },
    {
      "cell_type": "code",
      "source": [
        "#@title Hepers {display-mode: \"form\"}\n",
        "\n",
        "import sys\n",
        "def var_from_name(name):\n",
        "  return sys._getframe().f_back.f_locals[name]\n",
        "  "
      ],
      "metadata": {
        "id": "D4kMovOgLmKc"
      },
      "execution_count": 4,
      "outputs": []
    },
    {
      "cell_type": "markdown",
      "source": [
        "# Source Data"
      ],
      "metadata": {
        "id": "MROG20szQtmK"
      }
    },
    {
      "cell_type": "code",
      "execution_count": 5,
      "metadata": {
        "id": "7C2znBSxygk_"
      },
      "outputs": [],
      "source": [
        "#@title Real data {display-mode: \"form\"}\n",
        "\n",
        "# %%script false --no-raise-error  # 真实信号\n",
        "# 加上这一行可以禁止 cell 运行\n",
        "\n",
        "if DATA_SOURCE=='real':\n",
        "\n",
        "    ## 设定 Epoches 基本参数\n",
        "    sfreq = 1250.0\n",
        "    # ch_names = ['SIM0001', 'SIM0002']\n",
        "    # ch_types = ['grad', 'grad']\n",
        "    ch_names = ['LFP1']\n",
        "    ch_types = ['seeg']  # 设定信号类型，会改变单位值\n",
        "    info = create_info(ch_names=ch_names, sfreq=sfreq, ch_types=ch_types)\n",
        "    epoch_real_time=10\n",
        "    n_times = epoch_real_time*sfreq\n",
        "    n_epochs = 40\n",
        "\n",
        "    # real data\n",
        "    import scipy.io as scio\n",
        "    dataFile = 'VRlfp75.mat'\n",
        "\n",
        "    data = scio.loadmat(dataFile)\n",
        "    # channel0\n",
        "    data=list(data['LFP_data']['lfp_ncs'][0][0].flatten())\n",
        "\n",
        "    # 去掉末尾 0 值\n",
        "    while data[-1]==0:\n",
        "        del data[-1]\n",
        "\n",
        "    # 标准化，其实不需要，MNE 会自动标准化\n",
        "    data=np.array([data])\n",
        "    data[0]=stats.zscore(data[0])\n"
      ]
    },
    {
      "cell_type": "code",
      "execution_count": 6,
      "metadata": {
        "id": "vcZhgJlGyglA",
        "colab": {
          "base_uri": "https://localhost:8080/"
        },
        "outputId": "00d45190-3286-4b4d-9853-845e69588fcf"
      },
      "outputs": [
        {
          "output_type": "execute_result",
          "data": {
            "text/plain": [
              "array([[ 0.49671415, -0.1382643 ,  0.64768854, ...,  0.84477438,\n",
              "        -0.00556029,  1.17851269]])"
            ]
          },
          "metadata": {},
          "execution_count": 6
        }
      ],
      "source": [
        "#@title Synth data {display-mode: \"form\"}\n",
        "\n",
        "# %%script false --no-raise-error # 模拟信号\n",
        "\n",
        "if DATA_SOURCE=='synth':\n",
        "\n",
        "    ## 设定 Epoches 基本参数\n",
        "    sfreq = 1000.0\n",
        "    # ch_names = ['SIM0001', 'SIM0002']\n",
        "    # ch_types = ['grad', 'grad']\n",
        "    ch_names = ['SIM0001']\n",
        "    ch_types = ['seeg']  # 设定信号类型，会改变单位值\n",
        "    info = create_info(ch_names=ch_names, sfreq=sfreq, ch_types=ch_types)\n",
        "    n_times = 4024  # Just over 1 second epochs\n",
        "    n_epochs = 1\n",
        "\n",
        "    seed = 42\n",
        "    rng = np.random.RandomState(seed)\n",
        "    data = rng.randn(len(ch_names), n_times * n_epochs + 200)  # buffer\n",
        "\n",
        "    # Add a 50 Hz sinusoidal burst to the noise and ramp it.  加入50Hz的正弦脉冲\n",
        "    t = np.arange(n_times, dtype=np.float64) / sfreq\n",
        "    signal = 10*np.sin(np.pi * 2. * 50. * t)  # 50 Hz sinusoid signal\n",
        "    # print(signal)\n",
        "    signal[np.logical_or(t < 0.45, t > 0.55)] = 0.  # Hard windowing\n",
        "    on_time = np.logical_and(t >= 0.45, t <= 0.55)\n",
        "    # print(on_time)\n",
        "    signal[on_time] *= np.hanning(on_time.sum())  # Ramping\n",
        "    data[:, 100:-100] += np.tile(signal, n_epochs)  # add signal\n",
        "data"
      ]
    },
    {
      "cell_type": "code",
      "execution_count": 7,
      "metadata": {
        "colab": {
          "base_uri": "https://localhost:8080/"
        },
        "id": "If-2Ot00yglB",
        "outputId": "20db76e5-6923-49cf-8b11-290de572dfe3"
      },
      "outputs": [
        {
          "output_type": "stream",
          "name": "stdout",
          "text": [
            "Creating RawArray with float64 data, n_channels=1, n_times=4224\n",
            "    Range : 0 ... 4223 =      0.000 ...     4.223 secs\n",
            "Ready.\n"
          ]
        }
      ],
      "source": [
        "# 读取 data 数据到 raw 变量，进入 MNE 处理流程\n",
        "raw = RawArray(data, info)"
      ]
    },
    {
      "cell_type": "code",
      "source": [
        "#@title (bandpass filter) {display-mode: \"form\"}\n",
        "# bandpass filter\n",
        "# fmin=0\n",
        "# fmax=60\n",
        "# raw.filter(fmin, fmax, n_jobs=None,  # use more jobs to speed up.\n",
        "#                l_trans_bandwidth=1,  # make sure filter params are the same\n",
        "#                h_trans_bandwidth=1)  # in each band and skip \"auto\" option.\n"
      ],
      "metadata": {
        "id": "IfpBCES7Sv-j"
      },
      "execution_count": 8,
      "outputs": []
    },
    {
      "cell_type": "code",
      "execution_count": 9,
      "metadata": {
        "id": "FxggfGYzyglC",
        "colab": {
          "base_uri": "https://localhost:8080/",
          "height": 731
        },
        "outputId": "d09bf54c-c175-42b9-95eb-c1f6e92d0219"
      },
      "outputs": [
        {
          "output_type": "stream",
          "name": "stdout",
          "text": [
            "Not setting metadata\n",
            "1 matching events found\n",
            "No baseline correction applied\n",
            "0 projection items activated\n",
            "Need more than one channel to make topography for seeg. Disabling interactivity.\n"
          ]
        },
        {
          "output_type": "display_data",
          "data": {
            "text/plain": [
              "<Figure size 460.8x216 with 1 Axes>"
            ],
            "image/png": "[encoded data removed]"
          },
          "metadata": {
            "needs_background": "light"
          }
        },
        {
          "output_type": "stream",
          "name": "stdout",
          "text": [
            "NOTE: plot_psd() is a legacy function. New code should use .compute_psd().plot().\n",
            "Using data from preloaded Raw for 1 events and 4025 original time points ...\n",
            "0 bad epochs dropped\n",
            "    Using multitaper spectrum estimation with 7 DPSS windows\n",
            "Need more than one channel to make topography for seeg. Disabling interactivity.\n",
            "1\n"
          ]
        },
        {
          "output_type": "stream",
          "name": "stderr",
          "text": [
            "<ipython-input-9-89af1e60879b>:22: RuntimeWarning: Channel locations not available. Disabling spatial colors.\n",
            "  epochs.plot_psd()\n"
          ]
        },
        {
          "output_type": "display_data",
          "data": {
            "text/plain": [
              "<MNELineFigure size 720x252 with 1 Axes>"
            ],
            "image/png": "[encoded data removed]"
          },
          "metadata": {
            "needs_background": "light"
          }
        }
      ],
      "source": [
        "# %%script false --no-raise-error  # 模拟信号生成 Events 和 Epoches\n",
        "\n",
        "if DATA_SOURCE=='synth':\n",
        "\n",
        "    # event 是一个三元组(first_sample, ,event_code), 标记一个事件的（该事件起始时间采样点，，事件类型编号）\n",
        "    # events 是一系列 event 的列向量\n",
        "    events = np.zeros((n_epochs, 3), dtype=int)\n",
        "    events[:, 0] = np.arange(n_epochs) * n_times\n",
        "\n",
        "    # epoch 是根据 event 截取的片段，其中 tmin，tmax 是 first_sample 前后的偏移量\n",
        "    # epoches 是一系列 epoch，也就是一系列事件截取的等长片段集合\n",
        "    epochs = Epochs(raw, events, dict(sin50hz=0), tmin=0, tmax=n_times / sfreq,\n",
        "                    reject=dict(seeg=4000), \n",
        "                    baseline=None)\n",
        "\n",
        "\n",
        "    # 这里是对所有 epoches 取平均，模拟信号生成的时候是每个 epoch 中 event 是相同的，所以能够很好的平均。平均用于去掉噪声。\n",
        "    # 但是如果是我们自己的真实信号，由于没有 event 的数据，平均会乱掉，所以不用平均，也不用切那么小的片段。\n",
        "    epochs.average().plot()\n",
        "\n",
        "    # 可以画出频率谱看一下\n",
        "    epochs.plot_psd()\n",
        "    # for i in range(n_epochs):\n",
        "        # epochs[i].average().plot()\n",
        "\n",
        "    # print(events)\n",
        "# print(events)\n",
        "print(n_epochs)\n"
      ]
    },
    {
      "cell_type": "code",
      "execution_count": 10,
      "metadata": {
        "id": "IBMV4kOwyglC"
      },
      "outputs": [],
      "source": [
        "#%%script false --no-raise-error # 真实信号生成 Events 和 Epoches\n",
        "\n",
        "if DATA_SOURCE=='real':\n",
        "\n",
        "  # event 是一个三元组(first_sample, ,event_code), 标记一个事件的（该事件起始时间采样点，，事件类型编号）\n",
        "  # events 是一系列 event 的列向量\n",
        "  events = np.zeros((n_epochs, 3), dtype=int)\n",
        "  events[:, 0] = np.arange(n_epochs) * n_times\n",
        "\n",
        "  # epoch 是根据 event 截取的片段，其中 tmin，tmax 是 first_sample 前后的偏移量\n",
        "  # epoches 是一系列 epoch，也就是一系列事件截取的等长片段集合\n",
        "  epochs = Epochs(raw, events, 0, tmin=0, tmax=n_times / sfreq,\n",
        "                  # reject=dict(seeg=4000), \n",
        "                  baseline=None)\n",
        "\n",
        "\n",
        "  # 这里是对所有 epoches 取平均，模拟信号生成的时候是每个 epoch 中 event 是相同的，所以能够很好的平均。平均用于去掉噪声。\n",
        "  # 但是如果是我们自己的真实信号，由于没有 event 的数据，平均会乱掉，所以不用平均，也不用切那么小的片段。\n",
        "  epochs.average().plot()\n",
        "  # 可以画出频率谱看一下\n",
        "  epochs.plot_psd()\n",
        "  # for i in range(n_epochs):\n",
        "      # epochs[i].average().plot()\n",
        "\n"
      ]
    },
    {
      "cell_type": "markdown",
      "source": [
        "# 【模拟信号】\n",
        "需要提取 n_types 类型个数，以及混入数量\n",
        "\n",
        "信号时长较长的时候，TFR 会解析度会非常细。无法读出结果。下述解决方案可能有用：\n",
        "\n",
        "### 时频图分辨率\n",
        "图片要注意时间轴的分辨率和横纵轴的比例。\n",
        "可以让复杂度不线性增长，比如开根号或者取对数决定总长，然后再线性缩放。\n",
        "也许配合小波分辨率 freqs/x 来获得最佳解析。\n"
      ],
      "metadata": {
        "id": "xP-XCFA8lQ8Y"
      }
    },
    {
      "cell_type": "code",
      "source": [
        "## 设定 Epoches 基本参数\n",
        "sfreq = 1000.0 #1s的采样点数目\n",
        "all_time = 10 #采样秒数\n",
        "# ch_names = ['SIM0001', 'SIM0002']\n",
        "# ch_types = ['grad', 'grad']\n",
        "ch_names = ['SIM0001']\n",
        "ch_types = ['seeg']  # 设定信号类型，会改变单位值\n",
        "info = create_info(ch_names=ch_names, sfreq=sfreq, ch_types=ch_types)\n",
        "n_times = sfreq*all_time  # Just over 1 epochs 一个epochs的采样数目 10S\n",
        "n_epochs = 1 #epochs数目\n",
        "\n",
        "import random\n",
        "#生成sin的种类参数\n",
        "sin_parameters = np.zeros((3,3,3)) #三个种类波的参数 [[[振幅，相位，频率],[振幅，相位，频率],[振幅，相位，频率]]]\n",
        "ampltiude_range = [1,10]\n",
        "freq_range = [20,100]\n",
        "for wave_type in range(3):\n",
        "    for sin_type in range(3):\n",
        "        sample_type = np.array([random.randint(ampltiude_range[0], ampltiude_range[1]), random.uniform(0.,2.), random.randint(freq_range[0], freq_range[1])])\n",
        "        sin_parameters[wave_type][sin_type] = sample_type\n",
        "sin_parameters\n",
        "\n",
        "#生成信号\n",
        "import time\n",
        "import datetime\n",
        "seed = int(time.time())\n",
        "rng = np.random.RandomState(seed)\n",
        "# data = rng.randn(len(ch_names), int(n_times) * n_epochs)  # 正态分布的背景buffer\n",
        "data = rng.rand(len(ch_names), int(n_times) * n_epochs + 200)  # 正态分布的背景buffer\n",
        "\n",
        "t = np.arange(n_times, dtype=np.float64) / sfreq\n",
        "max_time_len = 0.2 #插入信号最长的长度s\n",
        "min_time_len = 0.05 #插入信号最短长度\n",
        "n_wave = 20 #插入波片段的数量\n",
        "\n",
        "#生成信号插入位置\n",
        "locs = sorted(np.random.rand(n_wave+1)*all_time)\n",
        "while len([i for index,i in enumerate(locs) if index>0 and i-locs[index-1]>=max_time_len])<n_wave:\n",
        "#     print(len([i for index,i in enumerate(locs) if index>0 and i-locs[index-1]>=min_time_len]))\n",
        "    locs = sorted(np.random.rand(n_wave+1)*all_time)\n",
        "\n",
        "locs = locs[0:-1]\n",
        "locs\n",
        "\n",
        "\n",
        "#生成type1 type2 type3,并在随机位置混入\n",
        "t = np.arange(n_times, dtype=np.float64) / sfreq\n",
        "final_signal = np.zeros(int(n_times))\n",
        "for i in range(3):\n",
        "    type_parameters = sin_parameters[i]\n",
        "    res_type = np.zeros(int(n_times))\n",
        "    for parameter in  type_parameters:\n",
        "        res_type += parameter[0]*np.sin(np.pi * 2. * parameter[2] * t + parameter[1]*np.pi * 2.)\n",
        "    ##在locs中随机选取位置插入\n",
        "    if i == 0:\n",
        "        n_type = 5\n",
        "        random.shuffle(locs)\n",
        "        loc = locs[:n_type]\n",
        "        locs = locs[n_type:]\n",
        "        for begin in loc:\n",
        "            signal = res_type.copy()\n",
        "            wave_len = random.uniform(min_time_len, max_time_len)\n",
        "            end = begin+wave_len\n",
        "            signal[np.logical_or(t <begin, t >end )] = 0.\n",
        "            on_time = np.logical_and(t >=  begin, t <= end)\n",
        "            signal[on_time] *= np.hanning(on_time.sum())  # Ramping\n",
        "            final_signal += signal\n",
        "    if i == 1:\n",
        "        n_type = 10\n",
        "        random.shuffle(locs)\n",
        "        loc = locs[:n_type]\n",
        "        locs = locs[n_type:]\n",
        "        for begin in loc:\n",
        "            signal = res_type\n",
        "            wave_len = random.uniform(min_time_len, max_time_len)\n",
        "            end = begin+wave_len\n",
        "            signal[np.logical_or(t <begin, t >end )] = 0.\n",
        "            on_time = np.logical_and(t >=  begin, t <= end)\n",
        "            signal[on_time] *= np.hanning(on_time.sum())  # Ramping\n",
        "            final_signal += signal\n",
        "    if i == 2:\n",
        "        n_type = 5\n",
        "        random.shuffle(locs)\n",
        "        loc = locs[:n_type]\n",
        "        locs = locs[n_type:]\n",
        "        for begin in loc:\n",
        "            signal = res_type\n",
        "            wave_len = random.uniform(min_time_len, max_time_len)\n",
        "            end = begin+wave_len\n",
        "            signal[np.logical_or(t <begin, t >end )] = 0.\n",
        "            on_time = np.logical_and(t >=  begin, t <= end)\n",
        "            signal[on_time] *= np.hanning(on_time.sum())  # Ramping\n",
        "            final_signal += signal\n",
        "\n",
        "data[:, 100:-100] += np.tile(final_signal, n_epochs)  # add signal np.tile扩展数组  从第100个采样点开始\n",
        "\n",
        "# 读取 data 数据到 raw 变量，进入 MNE 处理流程\n",
        "raw = RawArray(data, info)\n",
        "# 模拟信号生成 Events 和 Epoches\n",
        "# event 是一个三元组(first_sample, ,event_code), 标记一个事件的（该事件起始时间采样点，，事件类型编号）\n",
        "# events 是一系列 event 的列向量\n",
        "events = np.zeros((n_epochs, 3), dtype=int)\n",
        "events[:, 0] = np.arange(n_epochs) * n_times\n",
        "\n",
        "# epoch 是根据 event 截取的片段，其中 tmin，tmax 是 first_sample 前后的偏移量\n",
        "# epoches 是一系列 epoch，也就是一系列事件截取的等长片段集合\n",
        "epochs = Epochs(raw, events, dict(sin50hz=0), tmin=0, tmax=n_times / sfreq,\n",
        "                reject=dict(seeg=4000), \n",
        "                baseline=None)\n",
        "\n",
        "\n",
        "# 这里是对所有 epoches 取平均，模拟信号生成的时候是每个 epoch 中 event 是相同的，所以能够很好的平均。平均用于去掉噪声。\n",
        "# 但是如果是我们自己的真实信号，由于没有 event 的数据，平均会乱掉，所以不用平均，也不用切那么小的片段。\n",
        "epochs.average().plot()"
      ],
      "metadata": {
        "colab": {
          "base_uri": "https://localhost:8080/",
          "height": 642
        },
        "id": "D3h5qaagls7S",
        "outputId": "bc2f4cc7-bc87-4ad5-b057-6537683b0859"
      },
      "execution_count": 11,
      "outputs": [
        {
          "output_type": "stream",
          "name": "stdout",
          "text": [
            "Creating RawArray with float64 data, n_channels=1, n_times=10200\n",
            "    Range : 0 ... 10199 =      0.000 ...    10.199 secs\n",
            "Ready.\n",
            "Not setting metadata\n",
            "1 matching events found\n",
            "No baseline correction applied\n",
            "0 projection items activated\n",
            "Need more than one channel to make topography for seeg. Disabling interactivity.\n"
          ]
        },
        {
          "output_type": "display_data",
          "data": {
            "text/plain": [
              "<Figure size 460.8x216 with 1 Axes>"
            ],
            "image/png": "[encoded data removed]"
          },
          "metadata": {
            "needs_background": "light"
          }
        },
        {
          "output_type": "execute_result",
          "data": {
            "text/plain": [
              "<Figure size 460.8x216 with 1 Axes>"
            ],
            "image/png": "[encoded data removed]"
          },
          "metadata": {},
          "execution_count": 11
        }
      ]
    },
    {
      "cell_type": "markdown",
      "source": [
        "# Draw TFR"
      ],
      "metadata": {
        "id": "-Emst1JdRGHj"
      }
    },
    {
      "cell_type": "code",
      "execution_count": 12,
      "metadata": {
        "id": "Q0w_XaX9yglD",
        "colab": {
          "base_uri": "https://localhost:8080/",
          "height": 457
        },
        "outputId": "8f314962-c03d-4d36-d823-2dc309e1add8"
      },
      "outputs": [
        {
          "output_type": "stream",
          "name": "stdout",
          "text": [
            "Using data from preloaded Raw for 1 events and 10001 original time points ...\n",
            "0 bad epochs dropped\n",
            "Applying baseline correction (mode: mean)\n"
          ]
        },
        {
          "output_type": "stream",
          "name": "stderr",
          "text": [
            "[Parallel(n_jobs=1)]: Using backend SequentialBackend with 1 concurrent workers.\n",
            "[Parallel(n_jobs=1)]: Done   1 out of   1 | elapsed:    0.1s remaining:    0.0s\n",
            "[Parallel(n_jobs=1)]: Done   1 out of   1 | elapsed:    0.1s finished\n"
          ]
        },
        {
          "output_type": "display_data",
          "data": {
            "text/plain": [
              "<Figure size 1080x360 with 1 Axes>"
            ],
            "image/png": "[encoded data removed]"
          },
          "metadata": {
            "needs_background": "light"
          }
        }
      ],
      "source": [
        "# %%script false --no-raise-error  # 画时频图，一张\n",
        "fmin=5.\n",
        "fmax=100.\n",
        "freqs = np.arange(fmin, fmax, 3.)\n",
        "# print(freqs)\n",
        "vmin, vmax = -3., 3.  # Define our color limits.\n",
        "\n",
        "fig, axs = plt.subplots(1, 1, figsize=(15, 5), sharey=True)\n",
        "# all_n_cycles = [1, 3, freqs / 2.]\n",
        "# all_n_cycles = [freqs / 2.,freqs / 2.,freqs / 3.,freqs / 4.,freqs / 5.,]\n",
        "all_n_cycles = [freqs / 2.]\n",
        "# print(all_n_cycles)\n",
        "# print(axs)\n",
        "for n_cycles, ax in zip(all_n_cycles, [axs]):\n",
        "    power = tfr_morlet(epochs, freqs=freqs,\n",
        "                       n_cycles=n_cycles, return_itc=False,\n",
        "                    #    average=False\n",
        "                       )\n",
        "    power.plot([0], baseline=(0., 0.1), mode='mean', vmin=vmin, vmax=vmax,\n",
        "               axes=ax, show=False, colorbar=False)\n",
        "    n_cycles = 'scaled by freqs' if not isinstance(n_cycles, int) else n_cycles\n",
        "    ax.set_title(f'Sim: Using Morlet wavelet, n_cycles = {n_cycles}')\n",
        "plt.tight_layout()\n",
        "# all_n_cycles\n",
        "plt.savefig('output.png')\n"
      ]
    },
    {
      "cell_type": "markdown",
      "source": [
        "# Find Hightlights"
      ],
      "metadata": {
        "id": "_ENXyfQ0RTtF"
      }
    },
    {
      "cell_type": "code",
      "source": [
        "#@title Functions: Define find highlights functions{display-mode: \"form\"}\n",
        "# 定义寻找高光点的函数，内有参数可调。\n",
        "# find highlight\n",
        "import scipy.ndimage as ndimg\n",
        "import numpy as np\n",
        "from numba import jit\n",
        "import cv2\n",
        "\n",
        "def neighbors(shape):\n",
        "    dim = len(shape)\n",
        "    block = np.ones([3] * dim)\n",
        "    block[tuple([1] * dim)] = 0\n",
        "    idx = np.where(block > 0)\n",
        "    idx = np.array(idx, dtype=np.uint8).T\n",
        "    idx = np.array(idx - [1] * dim)\n",
        "    acc = np.cumprod((1,) + shape[::-1][:-1])\n",
        "    return np.dot(idx, acc[::-1])\n",
        "\n",
        "\n",
        "@jit  # trans index to r, c...\n",
        "\n",
        "def idx2rc(idx, acc):\n",
        "    rst = np.zeros((len(idx), len(acc)), dtype=np.int16)\n",
        "    for i in range(len(idx)):\n",
        "        for j in range(len(acc)):\n",
        "            rst[i, j] = idx[i] // acc[j]\n",
        "            idx[i] -= rst[i, j] * acc[j]\n",
        "    return rst\n",
        "\n",
        "\n",
        "#@jit  # fill a node (may be two or more points)\n",
        "\n",
        "def fill(img, msk, p, nbs, buf):\n",
        "    msk[p] = 3\n",
        "    buf[0] = p\n",
        "    back = img[p]\n",
        "    cur = 0\n",
        "    s = 1\n",
        "    while cur < s:\n",
        "        p = buf[cur]\n",
        "        for dp in nbs:\n",
        "            cp = p + dp\n",
        "            if img[cp] == back and msk[cp] == 1:\n",
        "                msk[cp] = 3\n",
        "                buf[s] = cp\n",
        "                s += 1\n",
        "                if s == len(buf):\n",
        "                    buf[:s - cur] = buf[cur:]\n",
        "                    s -= cur\n",
        "                    cur = 0\n",
        "        cur += 1\n",
        "    #msk[p] = 3\n",
        "\n",
        "\n",
        "#@jit  # my mark\n",
        "\n",
        "def mark(img, msk, buf, mode):  # mark the array use (0, 1, 2)\n",
        "    omark = msk\n",
        "    nbs = neighbors(img.shape)\n",
        "    idx = np.zeros(1024 * 128, dtype=np.int64)\n",
        "    img = img.ravel()  # 降维\n",
        "    msk = msk.ravel()  # 降维\n",
        "    s = 0\n",
        "    for p in range(len(img)):\n",
        "        if msk[p] != 1: continue\n",
        "        flag = False\n",
        "        for dp in nbs:\n",
        "            if mode and img[p + dp] > img[p]:\n",
        "                flag = True\n",
        "                break\n",
        "            elif not mode and img[p + dp] < img[p]:\n",
        "                flag = True\n",
        "                break\n",
        "\n",
        "        if flag : continue\n",
        "        else    : fill(img, msk, p, nbs, buf)\n",
        "        idx[s] = p\n",
        "        s += 1\n",
        "        if s == len(idx): break\n",
        "    plt.imshow(omark, cmap='gray')\n",
        "    return idx[:s].copy()\n",
        "\n",
        "\n",
        "\n",
        "def filter(img, msk, idx, bur, tor, mode):\n",
        "    omark = msk\n",
        "    nbs = neighbors(img.shape)\n",
        "    acc = np.cumprod((1,) + img.shape[::-1][:-1])[::-1]\n",
        "    img = img.ravel()\n",
        "    msk = msk.ravel()\n",
        "\n",
        "    arg = np.argsort(img[idx])[::-1 if mode else 1]\n",
        "\n",
        "    for i in arg:\n",
        "        if msk[idx[i]] != 3:\n",
        "            idx[i] = 0\n",
        "            continue\n",
        "        cur = 0\n",
        "        s = 1\n",
        "        bur[0] = idx[i]\n",
        "        while cur < s:\n",
        "            p = bur[cur]\n",
        "            if msk[p] == 2:\n",
        "                idx[i] = 0\n",
        "                break\n",
        "\n",
        "            for dp in nbs:\n",
        "                cp = p + dp\n",
        "                if msk[cp] == 0 or cp == idx[i] or msk[cp] == 4: continue\n",
        "                if mode and img[cp] < img[idx[i]] - tor: continue\n",
        "                if not mode and img[cp] > img[idx[i]] + tor: continue\n",
        "                bur[s] = cp\n",
        "                s += 1\n",
        "                if s == 1024 * 128:\n",
        "                    cut = cur // 2\n",
        "                    msk[bur[:cut]] = 2\n",
        "                    bur[:s - cut] = bur[cut:]\n",
        "                    cur -= cut\n",
        "                    s -= cut\n",
        "\n",
        "                if msk[cp] != 2: msk[cp] = 4\n",
        "            cur += 1\n",
        "        msk[bur[:s]] = 2\n",
        "        #plt.imshow(omark, cmap='gray')\n",
        "\n",
        "    return idx2rc(idx[idx > 0], acc)\n",
        "\n",
        "\n",
        "def find_maximum(img, tor, mode=True):\n",
        "    msk = np.zeros_like(img, dtype=np.uint8)\n",
        "    msk[tuple([slice(1, -1)] * img.ndim)] = 1\n",
        "    buf = np.zeros(1024 * 128, dtype=np.int64)\n",
        "    omark = msk\n",
        "    idx = mark(img, msk, buf, mode)\n",
        "    plt.imshow(msk, cmap='gray')\n",
        "    idx = filter(img, msk, idx, buf, tor, mode)\n",
        "    return idx\n",
        "\n",
        "# 寻找坐标框\n",
        "def getBigestTriangle(img):\n",
        "    contours,hierarchy = cv2.findContours(img,cv2.RETR_EXTERNAL,cv2.CHAIN_APPROX_NONE)  #寻找轮廓点\n",
        "    bigest_loc = []\n",
        "    bigest_area = 0\n",
        "    for obj in contours:\n",
        "        area = cv2.contourArea(obj)  #计算轮廓内区域的面积\n",
        "        perimeter = cv2.arcLength(obj,True)  #计算轮廓周长\n",
        "        approx = cv2.approxPolyDP(obj,0.02*perimeter,True)  #获取轮廓角点坐标\n",
        "        CornerNum = len(approx)   #轮廓角点的数量\n",
        "        if area>bigest_area:\n",
        "            bigest_area = area\n",
        "            bigest_loc = approx\n",
        "    if bigest_area>0:\n",
        "#         return img[loc1[0][1]:loc2[0][1],loc1[0][0]:loc2[0][0]]\n",
        "        return bigest_loc\n",
        "    else:\n",
        "        return None\n",
        "\n",
        "# 寻找高光点主函数\n",
        "def find_highlight(filepath):\n",
        " # from scipy.misc import imread\n",
        "    from imageio import imread\n",
        "    from scipy.ndimage import gaussian_filter\n",
        "    from time import time\n",
        "    import matplotlib.pyplot as plt\n",
        "\n",
        "    img = cv2.imread(filepath)\n",
        "    imgContour = img.copy()\n",
        "    imgGray = cv2.cvtColor(imgContour,cv2.COLOR_RGB2GRAY)  #转灰度图\n",
        "    imgBlur = cv2.GaussianBlur(imgGray,(5,5),1)  #高斯模糊\n",
        "    imgCanny = cv2.Canny(imgBlur,60,60)  #Canny算子边缘检测\n",
        "    locs = getBigestTriangle(imgCanny)  #坐标框\n",
        "    locs = locs.reshape(locs.shape[0],-1)\n",
        "    tem = sorted(locs,key = lambda x:x[1])\n",
        "    tem = [x for x in tem if x[1]<tem[0][1]+5]\n",
        "    tem = sorted(tem, key=lambda x:x[0]+x[1])\n",
        "    left_up = tem[0]\n",
        "    tem1 = sorted(locs,key = lambda x:x[0],reverse=True)\n",
        "    tem1 = [x for x in tem1 if x[0]>tem1[0][0]-5]\n",
        "    tem1 = sorted(tem1, key=lambda x:x[0]+x[1], reverse=True)\n",
        "    right_down = tem1[0]\n",
        "    img = img[left_up[1]:right_down[1],left_up[0]:right_down[0]]\n",
        "    print(left_up,right_down)\n",
        "    img = cv2.cvtColor(img, cv2.COLOR_BGR2GRAY)\n",
        "    img = cv2.bitwise_not(img) # invert color\n",
        "    ret2, img = cv2.threshold(img, 0, 255, cv2.THRESH_BINARY | cv2.THRESH_OTSU)\n",
        "    img[:] = ndimg.distance_transform_edt(img)\n",
        "    plt.imshow(img, cmap='gray')\n",
        "    start = time()\n",
        "    pts = find_maximum(img, 15, True)  ######### 这个参数可调识别阈值\n",
        "    print(time() - start)\n",
        "    print(pts)\n",
        "    plt.imshow(img, cmap='gray')\n",
        "    plt.plot(pts[:, 1], pts[:, 0], 'y.')\n",
        "    plt.show()\n",
        "    return img,pts"
      ],
      "metadata": {
        "id": "jn_iyRbyL1Xe"
      },
      "execution_count": 13,
      "outputs": []
    },
    {
      "cell_type": "markdown",
      "source": [
        "## Find Highlight"
      ],
      "metadata": {
        "id": "Sb5uZ1RagJt-"
      }
    },
    {
      "cell_type": "code",
      "execution_count": 14,
      "metadata": {
        "id": "w7H6tkQJyglE",
        "colab": {
          "base_uri": "https://localhost:8080/",
          "height": 505
        },
        "outputId": "93501a2c-2fcb-4442-cf7d-3b8514a35101"
      },
      "outputs": [
        {
          "output_type": "stream",
          "name": "stdout",
          "text": [
            "[43 27] [1064  322]\n",
            "11.713280200958252\n",
            "[[ 14 174]\n",
            " [ 27 690]\n",
            " [ 32 342]\n",
            " [ 35 614]\n",
            " [ 39 538]\n",
            " [ 87 281]\n",
            " [127 174]\n",
            " [143 537]]\n"
          ]
        },
        {
          "output_type": "display_data",
          "data": {
            "text/plain": [
              "<Figure size 432x288 with 1 Axes>"
            ],
            "image/png": "[encoded data removed]"
          },
          "metadata": {
            "needs_background": "light"
          }
        },
        {
          "output_type": "stream",
          "name": "stdout",
          "text": [
            "[[95.25423729  1.70421156]\n",
            " [90.84745763  6.75808031]\n",
            " [89.15254237  3.3496572 ]\n",
            " [88.13559322  6.01371205]\n",
            " [86.77966102  5.26934378]\n",
            " [70.50847458  2.75220372]\n",
            " [56.94915254  1.70421156]\n",
            " [51.52542373  5.25954946]]\n",
            "(295, 1021)\n"
          ]
        },
        {
          "output_type": "execute_result",
          "data": {
            "text/plain": [
              "10.0"
            ]
          },
          "metadata": {},
          "execution_count": 14
        }
      ],
      "source": [
        "# %%script false --no-raise-error\n",
        "# if FIND_HIGHLIGHT==True:\n",
        "if 1:\n",
        "  # find_highlight('output.png')\n",
        "    img,pts =  find_highlight('output.png')\n",
        "    orignal_loc = []\n",
        "    orignal_scale = [100, n_times / sfreq]\n",
        "    for pt in pts:\n",
        "        orignal_loc.append(pt/img.shape*orignal_scale)\n",
        "    orignal_loc = np.array(orignal_loc)\n",
        "    orignal_loc[:,0] = 100 - orignal_loc[:,0]  #因为处理完后的纵坐标是倒着的\n",
        "print(orignal_loc)\n",
        "# print(pts)\n",
        "\n",
        "print(img.shape)\n",
        "n_times / sfreq"
      ]
    },
    {
      "cell_type": "markdown",
      "source": [
        "## Generate Events"
      ],
      "metadata": {
        "id": "r_8Cxf08gXVT"
      }
    },
    {
      "cell_type": "code",
      "source": [
        "#@title 【这里加入聚类，并变换到下面格式】 {display-mode: \"form\"}\n",
        "# 单词拼错\n",
        "# print(orignal_loc)\n",
        "source=orignal_loc[:,0].reshape(-1,1)\n",
        "# print(source)\n",
        "kmeans = KMeans(n_clusters=3, random_state=666)\n",
        "y_pre = kmeans.fit_predict(source)\n",
        "# print(y_pre)\n",
        "type_id=np.unique(y_pre)\n",
        "freqs_times=[]\n",
        "type_freq_range=[]\n",
        "for lab_id, lab in enumerate(type_id):\n",
        "    times=[]\n",
        "    for sample_id, samp in enumerate(source):\n",
        "        if y_pre[sample_id] == lab_id:\n",
        "            print(source[sample_id])\n",
        "            times.append(orignal_loc[sample_id,1]*sfreq)\n",
        "    freqs_times.append(times)\n",
        "print(freqs_times)\n",
        "# freqs_times=np.array(freqs_times)\n",
        "# nSample, nDim = source.shape\n",
        "# labs=type_id\n",
        "# means = np.zeros((len(labs),nDim))\n",
        "# for i, lab in enumerate(labs):\n",
        "#     means[i] = np.mean(source[y_pre == lab], axis=0)\n",
        "# Muk=means  # 聚类中心\n",
        "Muk = kmeans.cluster_centers_  # 聚类中心\n",
        "print(Muk)\n",
        "\n",
        "freq_width=5\n",
        "type_freq_range=list(map(lambda x: [x[0]-freq_width,x[0]+freq_width], Muk))\n",
        "print(type_freq_range)\n"
      ],
      "metadata": {
        "colab": {
          "base_uri": "https://localhost:8080/"
        },
        "id": "or34XTSewDJc",
        "outputId": "36a505c3-4373-4d55-b985-115a7e3b3139"
      },
      "execution_count": 15,
      "outputs": [
        {
          "output_type": "stream",
          "name": "stdout",
          "text": [
            "[95.25423729]\n",
            "[90.84745763]\n",
            "[89.15254237]\n",
            "[88.13559322]\n",
            "[86.77966102]\n",
            "[56.94915254]\n",
            "[51.52542373]\n",
            "[70.50847458]\n",
            "[[1704.2115572967678, 6758.080313418217, 3349.657198824682, 6013.712047012732, 5269.343780607247], [1704.2115572967678, 5259.549461312438], [2752.203721841332]]\n",
            "[[90.03389831]\n",
            " [54.23728814]\n",
            " [70.50847458]]\n",
            "[[85.03389830508475, 95.03389830508475], [49.23728813559322, 59.23728813559322], [65.50847457627118, 75.50847457627118]]\n"
          ]
        }
      ]
    },
    {
      "cell_type": "code",
      "source": [
        "%%script false --no-raise-error  \n",
        "\n",
        "# 加上这一行可以禁止 cell 运行\n",
        "# package found highlights to Events\n",
        "if SIMULATION_EVENTS==False:\n",
        "\n",
        "    type_freq_range=[[40,45],[50,60],[60,80]]  # 单位 Hz\n",
        "    freqs_times=np.array([[3,4,5,],[9,10,11],[6,7,8]])*sfreq  # 单位 s\n",
        "    type_id=[0,1,2]\n",
        "\n",
        "print('enabled')"
      ],
      "metadata": {
        "id": "3HctkDx7BVHg"
      },
      "execution_count": 16,
      "outputs": []
    },
    {
      "cell_type": "code",
      "execution_count": 17,
      "metadata": {
        "id": "lz8oKXncyglE"
      },
      "outputs": [],
      "source": [
        "%%script false --no-raise-error  \n",
        "# 加上这一行可以禁止 cell 运行\n",
        "\n",
        "# simulation events\n",
        "if SIMULATION_EVENTS==True:\n",
        "    times=np.array([1.5,2.5,40,50,60,70,80,90,100]) # 单位 s\n",
        "    sample_times=times*sfreq #换算成 sample\n",
        "    n_epochs=len(times)\n",
        "\n",
        "    # event 是一个三元组(first_sample, ,event_code), 标记一个事件的（该事件起始时间采样点，，事件类型编号）\n",
        "    # events 是一系列 event 的列向量\n",
        "    events = np.zeros((n_epochs, 3), dtype=int)\n",
        "    events[:, 0] = sample_times\n",
        "    # events\n",
        "# epoch 是根据 event 截取的片段，其中 tmin，tmax 是 first_sample 前后的偏移量\n",
        "# epoches 是一系列 epoch，也就是一系列事件截取的等长片段集合\n",
        "epochs = Epochs(raw, events, 0, tmin=-1, tmax=1,\n",
        "                # reject=dict(seeg=4000), \n",
        "                baseline=None)\n",
        "\n",
        "\n",
        "# 这里是对所有 epoches 取平均，模拟信号生成的时候是每个 epoch 中 event 是相同的，所以能够很好的平均。平均用于去掉噪声。\n",
        "# 但是如果是我们自己的真实信号，由于没有 event 的数据，平均会乱掉，所以不用平均，也不用切那么小的片段。\n",
        "# epochs.average().plot()\n",
        "# epochs.plot_psd()\n",
        "# epochs.plot_image()\n"
      ]
    },
    {
      "cell_type": "code",
      "execution_count": 17,
      "metadata": {
        "id": "xxgI2YF4yglF"
      },
      "outputs": [],
      "source": []
    },
    {
      "cell_type": "markdown",
      "source": [
        "# Clustering Events"
      ],
      "metadata": {
        "id": "EGLJc1ISX3Xc"
      }
    },
    {
      "cell_type": "code",
      "execution_count": 18,
      "metadata": {
        "id": "sY3uhSYRyglF"
      },
      "outputs": [],
      "source": [
        "#@title custom metric {display-mode: \"form\"}\n",
        "\n",
        "def DTW(a, b):   \n",
        "    an = a.size\n",
        "    bn = b.size\n",
        "    pointwise_distance = distance.cdist(a.reshape(-1,1),b.reshape(-1,1))\n",
        "    cumdist = np.matrix(np.ones((an+1,bn+1)) * np.inf)\n",
        "    cumdist[0,0] = 0\n",
        "\n",
        "    for ai in range(an):\n",
        "        for bi in range(bn):\n",
        "            minimum_cost = np.min([cumdist[ai, bi+1],\n",
        "                                   cumdist[ai+1, bi],\n",
        "                                   cumdist[ai, bi]])\n",
        "            cumdist[ai+1, bi+1] = pointwise_distance[ai,bi] + minimum_cost\n",
        "\n",
        "    return cumdist[an, bn]"
      ]
    },
    {
      "cell_type": "code",
      "source": [
        "#@title (bandpass filter) {display-mode: \"form\"}\n",
        "# bandpass filter\n",
        "fmin=0\n",
        "fmax=60\n",
        "raw.filter(fmin, fmax, n_jobs=None,  # use more jobs to speed up.\n",
        "               l_trans_bandwidth=1,  # make sure filter params are the same\n",
        "               h_trans_bandwidth=1)  # in each band and skip \"auto\" option.\n"
      ],
      "metadata": {
        "id": "IlraX13dS1zu",
        "colab": {
          "base_uri": "https://localhost:8080/",
          "height": 543
        },
        "outputId": "47a37af9-59c0-4fbf-9fb0-9b85782b8c25"
      },
      "execution_count": 19,
      "outputs": [
        {
          "output_type": "stream",
          "name": "stdout",
          "text": [
            "Filtering raw data in 1 contiguous segment\n",
            "Setting up low-pass filter at 60 Hz\n",
            "\n",
            "FIR filter parameters\n",
            "---------------------\n",
            "Designing a one-pass, zero-phase, non-causal lowpass filter:\n",
            "- Windowed time-domain design (firwin) method\n",
            "- Hamming window with 0.0194 passband ripple and 53 dB stopband attenuation\n",
            "- Upper passband edge: 60.00 Hz\n",
            "- Upper transition bandwidth: 1.00 Hz (-6 dB cutoff frequency: 60.50 Hz)\n",
            "- Filter length: 3301 samples (3.301 sec)\n",
            "\n"
          ]
        },
        {
          "output_type": "stream",
          "name": "stderr",
          "text": [
            "[Parallel(n_jobs=1)]: Using backend SequentialBackend with 1 concurrent workers.\n",
            "[Parallel(n_jobs=1)]: Done   1 out of   1 | elapsed:    0.0s remaining:    0.0s\n",
            "[Parallel(n_jobs=1)]: Done   1 out of   1 | elapsed:    0.0s finished\n"
          ]
        },
        {
          "output_type": "execute_result",
          "data": {
            "text/plain": [
              "<RawArray | 1 x 10200 (10.2 s), ~86 kB, data loaded>"
            ],
            "text/html": [
              "<table class=\"table table-hover table-striped table-sm table-responsive small\">\n",
              "    <tr>\n",
              "        <th>Measurement date</th>\n",
              "        \n",
              "        <td>Unknown</td>\n",
              "        \n",
              "    </tr>\n",
              "    <tr>\n",
              "        <th>Experimenter</th>\n",
              "        \n",
              "        <td>Unknown</td>\n",
              "        \n",
              "    </tr>\n",
              "        <th>Participant</th>\n",
              "        \n",
              "        <td>Unknown</td>\n",
              "        \n",
              "    </tr>\n",
              "    <tr>\n",
              "        <th>Digitized points</th>\n",
              "        \n",
              "        <td>Not available</td>\n",
              "        \n",
              "    </tr>\n",
              "    <tr>\n",
              "        <th>Good channels</th>\n",
              "        <td>1 sEEG</td>\n",
              "    </tr>\n",
              "    <tr>\n",
              "        <th>Bad channels</th>\n",
              "        <td>None</td>\n",
              "    </tr>\n",
              "    <tr>\n",
              "        <th>EOG channels</th>\n",
              "        <td>Not available</td>\n",
              "    </tr>\n",
              "    <tr>\n",
              "        <th>ECG channels</th>\n",
              "        <td>Not available</td>\n",
              "    \n",
              "    <tr>\n",
              "        <th>Sampling frequency</th>\n",
              "        <td>1000.00 Hz</td>\n",
              "    </tr>\n",
              "    \n",
              "    \n",
              "    <tr>\n",
              "        <th>Highpass</th>\n",
              "        <td>0.00 Hz</td>\n",
              "    </tr>\n",
              "    \n",
              "    \n",
              "    <tr>\n",
              "        <th>Lowpass</th>\n",
              "        <td>60.00 Hz</td>\n",
              "    </tr>\n",
              "    \n",
              "    \n",
              "    \n",
              "    <tr>\n",
              "        <th>Duration</th>\n",
              "        <td>00:00:11 (HH:MM:SS)</td>\n",
              "    </tr>\n",
              "</table>"
            ]
          },
          "metadata": {},
          "execution_count": 19
        }
      ]
    },
    {
      "cell_type": "markdown",
      "source": [
        "## Pipeline"
      ],
      "metadata": {
        "id": "otDIp6NFhwEE"
      }
    },
    {
      "cell_type": "code",
      "source": [
        "from scipy import signal\n",
        "\n",
        "def butter_bandpass(cut_off_frequency_list, order=5):\n",
        "    ''' 带通滤波器，需要两个截止频率，以 list 形式输入 '''\n",
        "    nyq = 0.5 * sfreq\n",
        "    normal_cut_off = np.array(cut_off_frequency_list) / nyq\n",
        "    b, a = signal.butter(order, normal_cut_off,\n",
        "                  btype=\"bandpass\", analog=False)\n",
        "    return b, a\n",
        "\n",
        "def butter_bandpass_filtfilt(cut_off_frequency_list,data, order=5):\n",
        "    ''' 带通滤波器的执行，消除延迟 '''\n",
        "    b, a = butter_bandpass(cut_off_frequency_list, order=order)\n",
        "    y = signal.filtfilt(b, a, data)\n",
        "    return y\n",
        "\n",
        "\n",
        "def bandpass(freq_band_list):\n",
        "    def bp(source):\n",
        "        _source=source.copy()\n",
        "        new_source=[]\n",
        "        for i,_ in enumerate(_source):\n",
        "            new_source.append(butter_bandpass_filtfilt(freq_band_list,_source[i]))\n",
        "        return new_source\n",
        "    return bp\n",
        "\n",
        "def zscore(source):\n",
        "    _source=source.copy()\n",
        "    new_source=[]\n",
        "    for i,_ in enumerate(_source):\n",
        "        new_source.append(stats.zscore(_source[i]))\n",
        "    return new_source\n",
        "\n",
        "def downsample(downscale):\n",
        "    def ds(source):\n",
        "        _source=source.copy()\n",
        "        new_source=[]\n",
        "        for i,_ in enumerate(_source):\n",
        "            new_source.append(_source[i][::downscale])\n",
        "        return new_source\n",
        "    return ds\n",
        "\n",
        "def pipeline(func_list):\n",
        "    def pipe(source):\n",
        "        _source=source.copy()\n",
        "        for i in func_list:\n",
        "            _source=i(_source)\n",
        "        return np.array(_source)\n",
        "    return pipe\n",
        "\n",
        "\n",
        "\n"
      ],
      "metadata": {
        "id": "JKG4NMaKhxRt"
      },
      "execution_count": 20,
      "outputs": []
    },
    {
      "cell_type": "markdown",
      "source": [
        "### 【more filters】\n"
      ],
      "metadata": {
        "id": "fdwN0WEPnARO"
      }
    },
    {
      "cell_type": "code",
      "source": [
        "%%script false --no-raise-error  \n",
        "# 加上这一行可以禁止 cell 运行\n",
        "\n",
        "#@title raw filter {display-mode: \"form\"}\n",
        "# 加上这一行可折叠代码\n",
        "\n",
        "def make_seg_epochs(seg):\n",
        "    data2=[seg.copy()]\n",
        "    raw = RawArray(data2, info)\n",
        "    # print(raw.get_data())\n",
        "    n_epochs=1\n",
        "    n_times=len(seg)\n",
        "    # print(n_times)\n",
        "    events = np.zeros((n_epochs, 3), dtype=int)\n",
        "    events[:, 0] = 0\n",
        "    # print(events)\n",
        "    epochs = Epochs(raw, events, tmin=0, tmax=(n_times-50) / sfreq,\n",
        "                    # reject=dict(seeg=4000),\n",
        "                    baseline=None)\n",
        "    # print(epochs.get_data())\n",
        "    fmin=45\n",
        "    fmax=55\n",
        "    raw.filter(fmin, fmax, n_jobs=None,  # use more jobs to speed up.\n",
        "                l_trans_bandwidth=1,  # make sure filter params are the same\n",
        "                h_trans_bandwidth=1)  # in each band and skip \"auto\" option.\n",
        "\n",
        "    epochs.average().plot()\n",
        "    epochs.plot_psd()\n",
        "    return raw.get_data()[0]\n",
        "seg_psd(data[0])\n",
        "d=data[0].copy()\n",
        "d=make_seg_epochs(d)\n",
        "# print(d)\n",
        "seg_psd(d)"
      ],
      "metadata": {
        "id": "Pyon1Xv5VwCF"
      },
      "execution_count": 21,
      "outputs": []
    },
    {
      "cell_type": "code",
      "source": [
        "%%script false --no-raise-error  \n",
        "# 加上这一行可以禁止 cell 运行\n",
        "\n",
        "#@title butterworth filter {display-mode: \"form\"}\n",
        "# 加上这一行可折叠代码\n",
        "\n",
        "print(data[0])\n",
        "def seg_psd(seg):\n",
        "    data2=[seg.copy()]\n",
        "    raw = RawArray(data2, info)\n",
        "    print(raw.get_data())\n",
        "    n_epochs=1\n",
        "    n_times=len(seg)\n",
        "    print(n_times)\n",
        "    events = np.zeros((n_epochs, 3), dtype=int)\n",
        "    events[:, 0] = 0\n",
        "    print(events)\n",
        "    epochs = Epochs(raw, events, tmin=0, tmax=(n_times-50) / sfreq,\n",
        "                    # reject=dict(seeg=4000),\n",
        "                    baseline=None)\n",
        "    # print(epochs.get_data())\n",
        "    epochs.average().plot()\n",
        "    epochs.plot_psd()\n",
        "\n",
        "seg_psd(data[0])\n",
        "d=data[0].copy()\n",
        "d=butter_bandpass_filtfilt([45,55],d)\n",
        "print(d)\n",
        "seg_psd(d)"
      ],
      "metadata": {
        "id": "jUg0MX3OVuuH"
      },
      "execution_count": 22,
      "outputs": []
    },
    {
      "cell_type": "markdown",
      "source": [
        "## Model fit"
      ],
      "metadata": {
        "id": "4QF2YHJ0gBFg"
      }
    },
    {
      "cell_type": "code",
      "source": [
        "def add1(a):\n",
        "    return a+2\n",
        "add1(epochs.get_data())\n"
      ],
      "metadata": {
        "id": "UuvTI-b9dMYj",
        "colab": {
          "base_uri": "https://localhost:8080/"
        },
        "outputId": "65d87a40-cf72-4fd0-8aad-a264bc3f28ac"
      },
      "execution_count": 23,
      "outputs": [
        {
          "output_type": "stream",
          "name": "stdout",
          "text": [
            "Using data from preloaded Raw for 1 events and 10001 original time points ...\n"
          ]
        },
        {
          "output_type": "execute_result",
          "data": {
            "text/plain": [
              "array([[[2.84437058, 2.75462094, 2.67190884, ..., 2.19215336,\n",
              "         2.17128096, 2.15995906]]])"
            ]
          },
          "metadata": {},
          "execution_count": 23
        }
      ]
    },
    {
      "cell_type": "code",
      "execution_count": 24,
      "metadata": {
        "id": "xnM6dmXRyglF"
      },
      "outputs": [],
      "source": [
        "\n",
        "def clustering(ievents,algorithm,pipeline=pipeline([])):\n",
        "    epochs = Epochs(raw, ievents, ievents[0][2], tmin=tmin, tmax=tmax,baseline=None)\n",
        "    source=epochs.get_data()[:,0] # 原始信号  \n",
        "\n",
        "    _source=source   # 保存原始信号\n",
        "    p_source=pipeline(_source)  # 保存新信号\n",
        "    source=p_source   # 用新的拷贝管道信号\n",
        "    # 总是用 p 信号聚类。如果不想要管道，输入的时候就设置 pipeline\n",
        "\n",
        "    best_score = 0\n",
        "    best_pre = []\n",
        "    best_cluster_num = 0\n",
        "    \n",
        "    if algorithm == 'kmeans':\n",
        "        # for index, k in enumerate((2,3)):\n",
        "        for index, k in enumerate((2,)):\n",
        "            # 选择模型, 默认 Kmeans\n",
        "            # TimeSeriesKmeans_DTW, DBSCAN, ward, Kmeans\n",
        "            # model = TimeSeriesKMeans(n_clusters=k, metric=\"dtw\", max_iter=10)\n",
        "            model=KMeans(n_clusters=k, random_state=666)\n",
        "            y_pre = model.fit_predict(source)\n",
        "            print(f'y_pre: {y_pre}')\n",
        "            score = calinski_harabasz_score(source, y_pre)\n",
        "            print(f'score: {score}')\n",
        "            if score > best_score:\n",
        "                best_score = score\n",
        "                best_pre = y_pre\n",
        "                best_cluster_num = k\n",
        "                best_model=model\n",
        "    elif algorithm == 'tsdtw':\n",
        "        # for index, k in enumerate((2,3,4,5,6,7)):\n",
        "        for index, k in enumerate((2,)):\n",
        "            model = TimeSeriesKMeans(n_clusters=k, metric=\"dtw\", max_iter=10)\n",
        "            y_pre = model.fit_predict(source)\n",
        "            print(f'y_pre: {y_pre}')\n",
        "            score = calinski_harabasz_score(source, y_pre)\n",
        "            print(f'score: {score}')\n",
        "            if score > best_score:\n",
        "                best_score = score\n",
        "                best_pre = y_pre\n",
        "                best_cluster_num = k\n",
        "                best_model=model\n",
        "    elif algorithm == 'dbscan':\n",
        "        # model = DBSCAN(eps=14, min_samples=2, metric=lambda a, b: DTW(a, b))\n",
        "        model = DBSCAN(eps=0.3, min_samples=3)\n",
        "        y_pre = model.fit_predict(source)\n",
        "        print(f'y_pre: {y_pre}')\n",
        "        # score = calinski_harabasz_score(source, y_pre)\n",
        "        score = silhouette_score(source, y_pre)\n",
        "\n",
        "        print(f'score: {score}')\n",
        "        if score > best_score:\n",
        "            best_score = score\n",
        "            best_pre = y_pre\n",
        "            best_model=model\n",
        "    elif algorithm == 'ward':\n",
        "        model = AgglomerativeClustering(n_clusters = k, linkage = 'ward', metric=DTW)\n",
        "        y_pre = model.fit_predict(source)\n",
        "        print(f'y_pre: {y_pre}')\n",
        "        score = calinski_harabasz_score(source, y_pre)\n",
        "        print(f'score: {score}')\n",
        "        if score > best_score:\n",
        "            best_score = score\n",
        "            best_pre = y_pre\n",
        "            best_model=model\n",
        "\n",
        "    print(f'best_score: {best_score}')\n",
        "    print(f'best_model: {best_model}')\n",
        "\n",
        "    source=_source # 取回原始信号, source 默认为原信号，p_source 为拷贝管道后的信号\n",
        "    model_ans={}\n",
        "    for i in ('epochs','ievents','source','p_source','best_model','best_pre','best_score'):\n",
        "        model_ans.update({i:var_from_name(i)})\n",
        "    return  model_ans\n",
        "  # model_ans=dict(\n",
        "  #     best_model=best_model,\n",
        "  #     best_pre=best_pre,\n",
        "  #     best_score=best_score,\n",
        "  #     best_cluster_num=best_cluster_num\n",
        "  # )\n",
        "\n"
      ]
    },
    {
      "cell_type": "markdown",
      "source": [
        "# Ploting "
      ],
      "metadata": {
        "id": "LDD0XzFbX62I"
      }
    },
    {
      "cell_type": "code",
      "source": [
        "#@title Function: Print segment by sample location {display-mode: \"form\"}\n",
        "\n",
        "# 根据 sample 位置打印前后片段\n",
        "def print_sample(first_sample):\n",
        "    _events = np.zeros((1, 3), dtype=int)\n",
        "    _events[:, 0] = [first_sample]\n",
        "    _epochs = Epochs(raw, _events, 0, tmin=-1, tmax=1,\n",
        "                # reject=dict(seeg=4000), \n",
        "                baseline=None)\n",
        "    # epochs.average().plot(title=str(first_sample))\n",
        "    _epochs.average().plot(titles='segment at sample: '+str(first_sample))\n"
      ],
      "metadata": {
        "id": "ky5nolAPPjdO"
      },
      "execution_count": 25,
      "outputs": []
    },
    {
      "cell_type": "markdown",
      "source": [
        "## Plot Clusters"
      ],
      "metadata": {
        "id": "TP-tp_K-YFK_"
      }
    },
    {
      "cell_type": "code",
      "execution_count": 26,
      "metadata": {
        "id": "18RE7M-SyglG"
      },
      "outputs": [],
      "source": [
        "# Muk = best_model.cluster_centers_  # 聚类中心\n",
        "# C_i = best_model.predict(source)   # 类别列表\n",
        "\n",
        "\n",
        "def plot_p_clusters(ans):\n",
        "    ans=ans.copy()\n",
        "    ans['source']=ans['p_source']\n",
        "    plot_clusters(ans)\n",
        "\n",
        "def plot_clusters(ans):\n",
        "    nSample, nDim = ans['source'].shape\n",
        "    labs = np.unique(ans['best_pre'])\n",
        "    means = np.zeros((len(labs),nDim))\n",
        "    for i, lab in enumerate(labs):\n",
        "        means[i] = np.mean(ans['source'][ans['best_pre'] == lab], axis=0)\n",
        "    Muk=means  # 聚类中心\n",
        "    # print(ans['best_model'])\n",
        "    if hasattr(ans['best_model'], \"labels_\"):\n",
        "        y_pred = ans['best_model'].labels_.astype(int)\n",
        "    else:\n",
        "        y_pred = ans['best_model'].predict(X)\n",
        "    C_i = y_pred  # 类别列表\n",
        "    print('Events location:')\n",
        "    print(ans['ievents'])\n",
        "    # 一次循环\n",
        "    for original_index,(point,lab) in enumerate(zip(ans['source'],C_i)):\n",
        "        # print(f'lab={lab}')\n",
        "        print('label =',lab,', sample location:',ans['ievents'][original_index][0],', segment_head:', point[:3],'original_index:', original_index)\n",
        "        # print('sample location:',ans['ievents'][original_index][0])\n",
        "        # print_sample(events[original_index][0])\n",
        "        # epochs[original_index].plot()\n",
        "        plt.subplot(Muk.shape[0],1,lab+1)\n",
        "        plt.plot(np.arange(point.size),point)   # 绘制类内 sample\n",
        "    for index, (center,lab) in enumerate(zip(Muk,np.unique(C_i))):\n",
        "        plt.subplot(Muk.shape[0], 1, index+1)\n",
        "        plt.plot(np.arange(center.size),center,color='red' )   # 红色绘制聚类中心\n",
        "    plt.show()\n",
        "    # 打印原始原始片段\n",
        "    for original_index,(point,lab) in enumerate(zip(ans['source'],C_i)):\n",
        "        print_sample(ans['ievents'][original_index][0])\n"
      ]
    },
    {
      "cell_type": "markdown",
      "source": [
        "# Handle all"
      ],
      "metadata": {
        "id": "_krht1p0gmrf"
      }
    },
    {
      "cell_type": "code",
      "source": [
        "%%script false --no-raise-error  \n",
        "# 加上这一行可以禁止 cell 运行\n",
        "\n",
        "\n",
        "# source=epochs.get_data()[:,0]\n",
        "# print(source)\n",
        "# ans=clustering(events,var_from_name(algorithm))\n",
        "# print('---------------')\n",
        "# print(ans['source'])\n",
        "\n",
        "# p=pipeline([zscore,downsample(3),bandpass([0,50])])\n",
        "p=pipeline([zscore,downsample(3),bandpass([0.5,50])]) \n",
        "\n",
        "ans=clustering(events,algorithm,p)\n",
        "plot_clusters(ans)\n",
        "plot_p_clusters(ans)"
      ],
      "metadata": {
        "id": "iVK6FnfbP47Q"
      },
      "execution_count": 27,
      "outputs": []
    },
    {
      "cell_type": "code",
      "source": [
        "# freqs_times=np.array([[3,4,5,13.3],\n",
        "            #  [9,10,11,13.2],[6,7,8,13.1],[13,15,17,18],[18,17,20,19]])*sfreq  # 单位 s\n",
        "\n",
        "# freqs_times=np.array([[3,4,5,13],\n",
        "#              [9,10,11,13],[6,7,8,13],[13,15,17,18],[18,19.1,20,19]])*sfreq  # 单位 s\n",
        "\n",
        "# type_id=[0,1,2,3,4]\n",
        "# type_freq_range=[[40,45],[50,60],[60,80],[10,25],[26,27]]  # 单位 Hz\n",
        "\n",
        "sep_freq_events=[]\n",
        "# 同频事件：聚出来的频率类分成不同的 event_id，包装到 events 里面。\n",
        "for (i,lab) in enumerate(type_id):\n",
        "    # print(freqs_times[i])\n",
        "    freq_events = np.zeros((len(freqs_times[i]), 3), dtype=int)\n",
        "    freq_events[:, 0] = freqs_times[i]\n",
        "    freq_events[:, 2] = type_id[i]\n",
        "    print(freq_events)\n",
        "    if i==0:\n",
        "        long_events=freq_events.copy()\n",
        "    else:\n",
        "        long_events=np.vstack((long_events,freq_events))\n",
        "    # print(long_events)\n",
        "    sep_freq_events.append(freq_events)\n",
        "\n",
        "print(sep_freq_events)\n",
        "# print(long_events)\n",
        "\n",
        "# epochs = Epochs(raw, long_events,tmin=tmin, tmax=tmax,baseline=None)\n",
        "\n",
        "# 波形分类：对每个同频率的 events 里面进行（滤波）聚类。\n",
        "for ievents,irange in zip(sep_freq_events,type_freq_range):\n",
        "  # iepochs = Epochs(raw, ievents, ievents[0][2], tmin=tmin, tmax=tmax,baseline=None)\n",
        "  # print(iepochs)\n",
        "  # iepochs.get_data()[:,0]\n",
        "  # source=iepochs.get_data()[:,0]\n",
        "  # print(iepochs)\n",
        "  # ans=clustering(ievents,var_from_name(algorithm))\n",
        "#   p=pipeline([])\n",
        "# p=pipeline([zscore,downsample(3),bandpass([0,50])])\n",
        "    print('freq range: ',irange)\n",
        "    print(len(ievents))\n",
        "    if len(ievents)<=2:\n",
        "        continue\n",
        "    p=pipeline([zscore,downsample(6)]) \n",
        "    ans=clustering(ievents,algorithm,p)\n",
        "    plot_clusters(ans)\n",
        "    # plot_p_clusters(ans)\n"
      ],
      "metadata": {
        "id": "ukeoGvLocIV5",
        "colab": {
          "base_uri": "https://localhost:8080/",
          "height": 1000
        },
        "outputId": "195b39c7-70f7-49f9-d746-1e39ed1f8302"
      },
      "execution_count": 28,
      "outputs": [
        {
          "output_type": "stream",
          "name": "stdout",
          "text": [
            "[[1704    0    0]\n",
            " [6758    0    0]\n",
            " [3349    0    0]\n",
            " [6013    0    0]\n",
            " [5269    0    0]]\n",
            "[[1704    0    1]\n",
            " [5259    0    1]]\n",
            "[[2752    0    2]]\n",
            "[array([[1704,    0,    0],\n",
            "       [6758,    0,    0],\n",
            "       [3349,    0,    0],\n",
            "       [6013,    0,    0],\n",
            "       [5269,    0,    0]]), array([[1704,    0,    1],\n",
            "       [5259,    0,    1]]), array([[2752,    0,    2]])]\n",
            "freq range:  [85.03389830508475, 95.03389830508475]\n",
            "5\n",
            "Not setting metadata\n",
            "5 matching events found\n",
            "No baseline correction applied\n",
            "0 projection items activated\n",
            "Using data from preloaded Raw for 5 events and 2001 original time points ...\n"
          ]
        },
        {
          "output_type": "stream",
          "name": "stderr",
          "text": [
            "<ipython-input-24-86ab9650e635>:2: RuntimeWarning: The events passed to the Epochs constructor are not chronologically ordered.\n",
            "  epochs = Epochs(raw, ievents, ievents[0][2], tmin=tmin, tmax=tmax,baseline=None)\n"
          ]
        },
        {
          "output_type": "stream",
          "name": "stdout",
          "text": [
            "0 bad epochs dropped\n",
            "y_pre: [0 1 1 1 1]\n",
            "score: 3.2472161452316564\n",
            "best_score: 3.2472161452316564\n",
            "best_model: TimeSeriesKMeans(max_iter=10, metric='dtw', n_clusters=2)\n",
            "Events location:\n",
            "[[1704    0    0]\n",
            " [6758    0    0]\n",
            " [3349    0    0]\n",
            " [6013    0    0]\n",
            " [5269    0    0]]\n",
            "label = 0 , sample location: 1704 , segment_head: [0.47051165 0.43827061 0.39922141] original_index: 0\n",
            "label = 1 , sample location: 6758 , segment_head: [0.47686533 0.51819321 0.56773387] original_index: 1\n",
            "label = 1 , sample location: 3349 , segment_head: [0.36087647 0.39276043 0.42662991] original_index: 2\n",
            "label = 1 , sample location: 6013 , segment_head: [0.46426662 0.44754223 0.43824267] original_index: 3\n",
            "label = 1 , sample location: 5269 , segment_head: [0.68364452 0.63375913 0.58220848] original_index: 4\n"
          ]
        },
        {
          "output_type": "stream",
          "name": "stderr",
          "text": [
            "/usr/local/lib/python3.7/dist-packages/ipykernel_launcher.py:32: MatplotlibDeprecationWarning: Adding an axes using the same arguments as a previous axes currently reuses the earlier instance.  In a future version, a new instance will always be created and returned.  Meanwhile, this warning can be suppressed, and the future behavior ensured, by passing a unique label to each axes instance.\n",
            "/usr/local/lib/python3.7/dist-packages/ipykernel_launcher.py:32: MatplotlibDeprecationWarning: Adding an axes using the same arguments as a previous axes currently reuses the earlier instance.  In a future version, a new instance will always be created and returned.  Meanwhile, this warning can be suppressed, and the future behavior ensured, by passing a unique label to each axes instance.\n",
            "/usr/local/lib/python3.7/dist-packages/ipykernel_launcher.py:32: MatplotlibDeprecationWarning: Adding an axes using the same arguments as a previous axes currently reuses the earlier instance.  In a future version, a new instance will always be created and returned.  Meanwhile, this warning can be suppressed, and the future behavior ensured, by passing a unique label to each axes instance.\n",
            "/usr/local/lib/python3.7/dist-packages/ipykernel_launcher.py:35: MatplotlibDeprecationWarning: Adding an axes using the same arguments as a previous axes currently reuses the earlier instance.  In a future version, a new instance will always be created and returned.  Meanwhile, this warning can be suppressed, and the future behavior ensured, by passing a unique label to each axes instance.\n",
            "/usr/local/lib/python3.7/dist-packages/ipykernel_launcher.py:35: MatplotlibDeprecationWarning: Adding an axes using the same arguments as a previous axes currently reuses the earlier instance.  In a future version, a new instance will always be created and returned.  Meanwhile, this warning can be suppressed, and the future behavior ensured, by passing a unique label to each axes instance.\n"
          ]
        },
        {
          "output_type": "display_data",
          "data": {
            "text/plain": [
              "<Figure size 432x288 with 2 Axes>"
            ],
            "image/png": "[encoded data removed]"
          },
          "metadata": {
            "needs_background": "light"
          }
        },
        {
          "output_type": "stream",
          "name": "stdout",
          "text": [
            "Not setting metadata\n",
            "1 matching events found\n",
            "No baseline correction applied\n",
            "0 projection items activated\n",
            "Need more than one channel to make topography for seeg. Disabling interactivity.\n"
          ]
        },
        {
          "output_type": "display_data",
          "data": {
            "text/plain": [
              "<Figure size 460.8x216 with 1 Axes>"
            ],
            "image/png": "[encoded data removed]"
          },
          "metadata": {
            "needs_background": "light"
          }
        },
        {
          "output_type": "stream",
          "name": "stdout",
          "text": [
            "Not setting metadata\n",
            "1 matching events found\n",
            "No baseline correction applied\n",
            "0 projection items activated\n",
            "Need more than one channel to make topography for seeg. Disabling interactivity.\n"
          ]
        },
        {
          "output_type": "display_data",
          "data": {
            "text/plain": [
              "<Figure size 460.8x216 with 1 Axes>"
            ],
            "image/png": "[encoded data removed]"
          },
          "metadata": {
            "needs_background": "light"
          }
        },
        {
          "output_type": "stream",
          "name": "stdout",
          "text": [
            "Not setting metadata\n",
            "1 matching events found\n",
            "No baseline correction applied\n",
            "0 projection items activated\n",
            "Need more than one channel to make topography for seeg. Disabling interactivity.\n"
          ]
        },
        {
          "output_type": "display_data",
          "data": {
            "text/plain": [
              "<Figure size 460.8x216 with 1 Axes>"
            ],
            "image/png": "[encoded data removed]"
          },
          "metadata": {
            "needs_background": "light"
          }
        },
        {
          "output_type": "stream",
          "name": "stdout",
          "text": [
            "Not setting metadata\n",
            "1 matching events found\n",
            "No baseline correction applied\n",
            "0 projection items activated\n",
            "Need more than one channel to make topography for seeg. Disabling interactivity.\n"
          ]
        },
        {
          "output_type": "display_data",
          "data": {
            "text/plain": [
              "<Figure size 460.8x216 with 1 Axes>"
            ],
            "image/png": "[encoded data removed]"
          },
          "metadata": {
            "needs_background": "light"
          }
        },
        {
          "output_type": "stream",
          "name": "stdout",
          "text": [
            "Not setting metadata\n",
            "1 matching events found\n",
            "No baseline correction applied\n",
            "0 projection items activated\n",
            "Need more than one channel to make topography for seeg. Disabling interactivity.\n"
          ]
        },
        {
          "output_type": "display_data",
          "data": {
            "text/plain": [
              "<Figure size 460.8x216 with 1 Axes>"
            ],
            "image/png": "[encoded data removed]"
          },
          "metadata": {
            "needs_background": "light"
          }
        },
        {
          "output_type": "stream",
          "name": "stdout",
          "text": [
            "freq range:  [49.23728813559322, 59.23728813559322]\n",
            "2\n",
            "freq range:  [65.50847457627118, 75.50847457627118]\n",
            "1\n"
          ]
        }
      ]
    },
    {
      "cell_type": "markdown",
      "source": [],
      "metadata": {
        "id": "1LOCIKMIG3rQ"
      }
    }
  ],
  "metadata": {
    "kernelspec": {
      "display_name": "Python 3.9.7 ('s-aN1n-HYC-py3.9')",
      "language": "python",
      "name": "python3"
    },
    "language_info": {
      "codemirror_mode": {
        "name": "ipython",
        "version": 3
      },
      "file_extension": ".py",
      "mimetype": "text/x-python",
      "name": "python",
      "nbconvert_exporter": "python",
      "pygments_lexer": "ipython3",
      "version": "3.9.7"
    },
    "orig_nbformat": 4,
    "vscode": {
      "interpreter": {
        "hash": "5fd573a478e91e15b7ec5b2b4459fe2e2268b1cbaf9ce74e31914b8000650fd6"
      }
    },
    "colab": {
      "provenance": [],
      "toc_visible": true,
      "include_colab_link": true
    }
  },
  "nbformat": 4,
  "nbformat_minor": 0
}